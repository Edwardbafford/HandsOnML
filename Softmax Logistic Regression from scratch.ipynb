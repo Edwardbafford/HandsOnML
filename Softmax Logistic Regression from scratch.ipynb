{
 "cells": [
  {
   "cell_type": "markdown",
   "metadata": {},
   "source": [
    "## Softmax Logistic Regression from scratch\n",
    "  \n",
    "Create a softmax logistic regression algorithm using only numpy, no Scikit-Learn!  "
   ]
  },
  {
   "cell_type": "code",
   "execution_count": 1,
   "metadata": {},
   "outputs": [],
   "source": [
    "import numpy as np"
   ]
  },
  {
   "cell_type": "markdown",
   "metadata": {},
   "source": [
    "Algorithm is run on the petal length and width of of the iris dataset for simplicity"
   ]
  },
  {
   "cell_type": "code",
   "execution_count": 8,
   "metadata": {},
   "outputs": [],
   "source": [
    "from sklearn import datasets\n",
    "iris = datasets.load_iris()\n",
    "X = iris[\"data\"][:, (2, 3)]\n",
    "y = iris[\"target\"]\n",
    "\n",
    "X_b = np.c_[np.ones([len(X), 1]), X] #Add bias to feature vector"
   ]
  },
  {
   "cell_type": "markdown",
   "metadata": {},
   "source": [
    "Randomize the dataset and split into sections for validating and testing the model"
   ]
  },
  {
   "cell_type": "code",
   "execution_count": 11,
   "metadata": {},
   "outputs": [],
   "source": [
    "test_ratio = 0.2\n",
    "validation_ratio = 0.2\n",
    "total_size = len(X_b)\n",
    "\n",
    "test_size = int(total_size * test_ratio)\n",
    "validation_size = int(total_size * validation_ratio)\n",
    "train_size = total_size - test_size - validation_size\n",
    "\n",
    "rnd_indices = np.random.permutation(total_size)\n",
    "\n",
    "X_train = X_b[rnd_indices[:train_size]]\n",
    "y_train = y[rnd_indices[:train_size]]\n",
    "X_valid = X_b[rnd_indices[train_size:-test_size]]\n",
    "y_valid = y[rnd_indices[train_size:-test_size]]\n",
    "X_test = X_b[rnd_indices[-test_size:]]\n",
    "y_test = y[rnd_indices[-test_size:]]"
   ]
  },
  {
   "cell_type": "markdown",
   "metadata": {},
   "source": [
    "Define hot encoding function, test it, then convert labels into encoded versions"
   ]
  },
  {
   "cell_type": "code",
   "execution_count": 13,
   "metadata": {},
   "outputs": [],
   "source": [
    "def one_hot_encode(labels):\n",
    "    n = labels.max() + 1 #Assumes labels start from 0\n",
    "    m = len(labels)\n",
    "    encoded = np.zeros((m, n))\n",
    "    encoded[np.arange(m), labels] = 1 #Set binary values in right spots\n",
    "    return encoded"
   ]
  },
  {
   "cell_type": "code",
   "execution_count": 14,
   "metadata": {
    "scrolled": true
   },
   "outputs": [
    {
     "data": {
      "text/plain": [
       "array([[1., 0., 0.],\n",
       "       [0., 1., 0.],\n",
       "       [0., 1., 0.],\n",
       "       [0., 1., 0.],\n",
       "       [0., 0., 1.],\n",
       "       [1., 0., 0.],\n",
       "       [1., 0., 0.],\n",
       "       [0., 0., 1.],\n",
       "       [0., 1., 0.],\n",
       "       [0., 1., 0.]])"
      ]
     },
     "execution_count": 14,
     "metadata": {},
     "output_type": "execute_result"
    }
   ],
   "source": [
    "one_hot_encode(y_train[:10])"
   ]
  },
  {
   "cell_type": "code",
   "execution_count": 16,
   "metadata": {},
   "outputs": [],
   "source": [
    "Y_train_one_hot = one_hot_encode(y_train)\n",
    "Y_valid_one_hot = one_hot_encode(y_valid)\n",
    "Y_test_one_hot = one_hot_encode(y_test)"
   ]
  },
  {
   "cell_type": "markdown",
   "metadata": {},
   "source": [
    "Define softmax function and implement gradient descent method with early stopping"
   ]
  },
  {
   "cell_type": "code",
   "execution_count": 17,
   "metadata": {},
   "outputs": [],
   "source": [
    "def softmax(outputs):\n",
    "    exponents = np.exp(outputs)\n",
    "    return exponents / np.sum(exponents, axis=1, keepdims=True)"
   ]
  },
  {
   "cell_type": "code",
   "execution_count": 23,
   "metadata": {
    "scrolled": true
   },
   "outputs": [
    {
     "name": "stdout",
     "output_type": "stream",
     "text": [
      "0 1.4029686863739521\n",
      "500 0.5399091005011587\n",
      "1000 0.5173139576880811\n",
      "1500 0.5102440663584142\n",
      "2000 0.5074862898578454\n",
      "2500 0.5063125913074629\n",
      "3000 0.5057841586543829\n",
      "3500 0.505534869633146\n",
      "4000 0.5054118945770771\n",
      "4500 0.5053484274715387\n",
      "5000 0.5053141530715213\n",
      "5500 0.5052948202564818\n",
      "6000 0.5052834780066788\n",
      "6500 0.5052765980915821\n",
      "7000 0.5052723121008242\n",
      "7500 0.5052695872126548\n",
      "8000 0.5052678287839825\n",
      "8500 0.5052666818948875\n",
      "9000 0.5052659282850728\n",
      "9500 0.50526543055372\n",
      "10000 0.5052651006712041\n",
      "10500 0.5052648815168947\n",
      "11000 0.5052647356917199\n",
      "11500 0.5052646385558198\n",
      "12000 0.5052645738059902\n",
      "12500 0.5052645306236578\n",
      "13000 0.5052645018156592\n",
      "13500 0.5052644825930057\n",
      "14000 0.5052644697645051\n",
      "14500 0.5052644612024094\n",
      "15000 0.5052644554874643\n",
      "15500 0.5052644516727451\n",
      "16000 0.5052644491263517\n",
      "16500 0.5052644474265561\n",
      "17000 0.505264446291876\n",
      "17500 0.5052644455344262\n",
      "18000 0.5052644450287918\n",
      "18500 0.5052644446912549\n",
      "19000 0.5052644444659311\n",
      "19500 0.5052644443155156\n",
      "20000 0.5052644442151049\n",
      "20500 0.505264444148075\n",
      "21000 0.5052644441033292\n",
      "21500 0.5052644440734586\n",
      "22000 0.5052644440535184\n",
      "22500 0.5052644440402072\n",
      "23000 0.5052644440313213\n",
      "23500 0.5052644440253894\n",
      "24000 0.5052644440214296\n",
      "24500 0.5052644440187862\n",
      "25000 0.5052644440170215\n",
      "25500 0.5052644440158434\n",
      "26000 0.5052644440150571\n",
      "26500 0.5052644440145322\n",
      "27000 0.5052644440141817\n",
      "27500 0.5052644440139478\n",
      "27707 0.5052644440138752\n",
      "27708 0.5052644440138752 early stopping!\n"
     ]
    }
   ],
   "source": [
    "n_inputs = X_train.shape[1]                  #size of X\n",
    "n_outputs = len(np.unique(y_train))          #number of classes\n",
    "eta = 0.1                                    #step size\n",
    "n_iterations = 40001                          #number of gradient descents\n",
    "m = len(X_train)                             #number of samples                              \n",
    "alpha = 0.1                                  #regularization hyperparameter\n",
    "\n",
    "best_loss = np.infty                         #original loss\n",
    "epsilon = 1e-7                               #in case probability is 0\n",
    "\n",
    "Theta = np.random.randn(n_inputs, n_outputs) #parameters for each class to be defined\n",
    "\n",
    "for iteration in range(n_iterations):\n",
    "    #Calculate loss\n",
    "    logits = X_train.dot(Theta)\n",
    "    Y_proba = softmax(logits)\n",
    "    xentropy_loss = -np.mean(np.sum(Y_train_one_hot * np.log(Y_proba + epsilon), axis=1))\n",
    "    l2_loss = 1/2 * np.sum(np.square(Theta[1:]))\n",
    "    loss = xentropy_loss + alpha * l2_loss\n",
    "    \n",
    "    #Update parameters\n",
    "    error = Y_proba - Y_train_one_hot\n",
    "    gradients = 1/m * X_train.T.dot(error) + np.r_[np.zeros([1, n_outputs]), alpha * Theta[1:]]\n",
    "    Theta = Theta - eta * gradients\n",
    "    \n",
    "    #Calculate new loss\n",
    "    logits = X_valid.dot(Theta)\n",
    "    Y_proba = softmax(logits)\n",
    "    xentropy_loss = -np.mean(np.sum(Y_valid_one_hot * np.log(Y_proba + epsilon), axis=1))\n",
    "    l2_loss = 1/2 * np.sum(np.square(Theta[1:]))\n",
    "    loss = xentropy_loss + alpha * l2_loss\n",
    "    \n",
    "    #Print loss\n",
    "    if iteration % 500 == 0:\n",
    "        print(iteration, loss)\n",
    "    \n",
    "    #Early stopping if loss does not improve\n",
    "    if loss < best_loss:\n",
    "        best_loss = loss\n",
    "    else:\n",
    "        print(iteration - 1, best_loss)\n",
    "        print(iteration, loss, \"early stopping!\")\n",
    "        break"
   ]
  },
  {
   "cell_type": "markdown",
   "metadata": {},
   "source": [
    "Test results on validation set"
   ]
  },
  {
   "cell_type": "code",
   "execution_count": 24,
   "metadata": {},
   "outputs": [
    {
     "data": {
      "text/plain": [
       "0.9333333333333333"
      ]
     },
     "execution_count": 24,
     "metadata": {},
     "output_type": "execute_result"
    }
   ],
   "source": [
    "logits = X_valid.dot(Theta)\n",
    "Y_proba = softmax(logits)\n",
    "y_predict = np.argmax(Y_proba, axis=1)\n",
    "\n",
    "accuracy_score = np.mean(y_predict == y_valid)\n",
    "accuracy_score"
   ]
  },
  {
   "cell_type": "markdown",
   "metadata": {},
   "source": [
    "Fancy visualization below!!"
   ]
  },
  {
   "cell_type": "code",
   "execution_count": 52,
   "metadata": {},
   "outputs": [
    {
     "data": {
      "image/png": "[encoded data removed]",
      "text/plain": [
       "<Figure size 720x288 with 1 Axes>"
      ]
     },
     "metadata": {},
     "output_type": "display_data"
    }
   ],
   "source": [
    "import matplotlib.pyplot as plt\n",
    "from matplotlib.colors import ListedColormap\n",
    "\n",
    "#Create X samples throughout entire feature range\n",
    "x0, x1 = np.meshgrid(\n",
    "        np.linspace(0, 8, 500).reshape(-1, 1),\n",
    "        np.linspace(0, 3.5, 200).reshape(-1, 1),\n",
    "    )\n",
    "X_new = np.c_[x0.ravel(), x1.ravel()]\n",
    "X_new_with_bias = np.c_[np.ones([len(X_new), 1]), X_new]\n",
    "\n",
    "#Create predictions\n",
    "logits = X_new_with_bias.dot(Theta)\n",
    "Y_proba = softmax(logits)\n",
    "y_predict = np.argmax(Y_proba, axis=1)\n",
    "\n",
    "#Plot actual samples\n",
    "plt.figure(figsize=(10, 4))\n",
    "plt.plot(X[y==2, 0], X[y==2, 1], \"g^\", label=\"Iris-Virginica\")\n",
    "plt.plot(X[y==1, 0], X[y==1, 1], \"bs\", label=\"Iris-Versicolor\")\n",
    "plt.plot(X[y==0, 0], X[y==0, 1], \"yo\", label=\"Iris-Setosa\")\n",
    "\n",
    "#Color sections with predictions\n",
    "zz = y_predict.reshape(x0.shape)\n",
    "custom_cmap = ListedColormap(['#fafab0','#9898ff','#a0faa0'])\n",
    "plt.contourf(x0, x1, zz, cmap=custom_cmap)\n",
    "\n",
    "#Confidence contour lines for Versicolor predictions\n",
    "zz1 = Y_proba[:, 1].reshape(x0.shape)\n",
    "contour = plt.contour(x0, x1, zz1, cmap=plt.cm.brg)\n",
    "plt.clabel(contour, inline=1, fontsize=12)\n",
    "\n",
    "#Labels\n",
    "plt.xlabel(\"Petal length\", fontsize=14)\n",
    "plt.ylabel(\"Petal width\", fontsize=14)\n",
    "plt.legend(loc=\"upper left\", fontsize=14)\n",
    "plt.axis([0, 7, 0, 3.5])\n",
    "plt.show()"
   ]
  },
  {
   "cell_type": "code",
   "execution_count": null,
   "metadata": {},
   "outputs": [],
   "source": []
  },
  {
   "cell_type": "code",
   "execution_count": null,
   "metadata": {},
   "outputs": [],
   "source": []
  },
  {
   "cell_type": "code",
   "execution_count": null,
   "metadata": {},
   "outputs": [],
   "source": []
  },
  {
   "cell_type": "code",
   "execution_count": null,
   "metadata": {},
   "outputs": [],
   "source": []
  },
  {
   "cell_type": "code",
   "execution_count": null,
   "metadata": {},
   "outputs": [],
   "source": []
  },
  {
   "cell_type": "code",
   "execution_count": null,
   "metadata": {},
   "outputs": [],
   "source": []
  },
  {
   "cell_type": "code",
   "execution_count": null,
   "metadata": {},
   "outputs": [],
   "source": []
  },
  {
   "cell_type": "code",
   "execution_count": null,
   "metadata": {},
   "outputs": [],
   "source": []
  },
  {
   "cell_type": "code",
   "execution_count": null,
   "metadata": {},
   "outputs": [],
   "source": []
  },
  {
   "cell_type": "code",
   "execution_count": null,
   "metadata": {},
   "outputs": [],
   "source": []
  },
  {
   "cell_type": "code",
   "execution_count": null,
   "metadata": {},
   "outputs": [],
   "source": []
  },
  {
   "cell_type": "code",
   "execution_count": null,
   "metadata": {},
   "outputs": [],
   "source": []
  },
  {
   "cell_type": "code",
   "execution_count": null,
   "metadata": {},
   "outputs": [],
   "source": []
  },
  {
   "cell_type": "code",
   "execution_count": null,
   "metadata": {},
   "outputs": [],
   "source": []
  },
  {
   "cell_type": "code",
   "execution_count": null,
   "metadata": {},
   "outputs": [],
   "source": []
  },
  {
   "cell_type": "code",
   "execution_count": null,
   "metadata": {},
   "outputs": [],
   "source": []
  }
 ],
 "metadata": {
  "kernelspec": {
   "display_name": "Python 3",
   "language": "python",
   "name": "python3"
  },
  "language_info": {
   "codemirror_mode": {
    "name": "ipython",
    "version": 3
   },
   "file_extension": ".py",
   "mimetype": "text/x-python",
   "name": "python",
   "nbconvert_exporter": "python",
   "pygments_lexer": "ipython3",
   "version": "3.6.4"
  }
 },
 "nbformat": 4,
 "nbformat_minor": 2
}
