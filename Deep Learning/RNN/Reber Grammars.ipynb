{
 "cells": [
  {
   "cell_type": "markdown",
   "metadata": {},
   "source": [
    "## Reber Grammars\n",
    "Detect if a string of characters is a reber grammar or not"
   ]
  },
  {
   "cell_type": "code",
   "execution_count": 2,
   "metadata": {},
   "outputs": [],
   "source": [
    "import random\n",
    "import tensorflow as tf"
   ]
  },
  {
   "cell_type": "code",
   "execution_count": 129,
   "metadata": {},
   "outputs": [],
   "source": [
    "# Function for producing a reber grammar sequence\n",
    "\n",
    "# Default produces a true reber grammar\n",
    "\n",
    "# For a mutually exclusive non-reber grammar\n",
    "# split = 'PT'\n",
    "# e1 = 'PV'\n",
    "# e2 = 'VP'\n",
    "\n",
    "def reber_grammar(split='TP',e1='XS',e2='PV'):\n",
    "    grammar = 'B'\n",
    "    grammar += random.choice(split)\n",
    "\n",
    "    if grammar[-1] == split[0]:\n",
    "        while grammar[-1] != 'X':\n",
    "            grammar += random.choice('SX')\n",
    "    \n",
    "        while True:\n",
    "            grammar += random.choice(e1)\n",
    "            if grammar[-1] == e1[0]:\n",
    "                while grammar[-1] != 'V':\n",
    "                    grammar += random.choice('VT')\n",
    "                grammar += random.choice('PV')\n",
    "                if grammar[-1] == 'V':\n",
    "                    break\n",
    "            else:\n",
    "                break\n",
    "    else:\n",
    "        while True:\n",
    "            while grammar[-1] != 'V':\n",
    "                grammar += random.choice('VT')\n",
    "            grammar += random.choice(e2)\n",
    "            if grammar[-1] == e2[1]:\n",
    "                break\n",
    "            grammar += random.choice('XS')\n",
    "            if grammar[-1] == 'S':\n",
    "                break\n",
    "    grammar += random.choice('E')\n",
    "    return grammar"
   ]
  },
  {
   "cell_type": "code",
   "execution_count": 154,
   "metadata": {},
   "outputs": [
    {
     "data": {
      "text/plain": [
       "'BPTTVPSE'"
      ]
     },
     "execution_count": 154,
     "metadata": {},
     "output_type": "execute_result"
    }
   ],
   "source": [
    "reber_grammar()"
   ]
  },
  {
   "cell_type": "code",
   "execution_count": null,
   "metadata": {},
   "outputs": [],
   "source": []
  },
  {
   "cell_type": "code",
   "execution_count": null,
   "metadata": {},
   "outputs": [],
   "source": []
  },
  {
   "cell_type": "code",
   "execution_count": null,
   "metadata": {},
   "outputs": [],
   "source": []
  },
  {
   "cell_type": "code",
   "execution_count": null,
   "metadata": {},
   "outputs": [],
   "source": []
  },
  {
   "cell_type": "code",
   "execution_count": null,
   "metadata": {},
   "outputs": [],
   "source": []
  },
  {
   "cell_type": "code",
   "execution_count": null,
   "metadata": {},
   "outputs": [],
   "source": []
  },
  {
   "cell_type": "code",
   "execution_count": null,
   "metadata": {},
   "outputs": [],
   "source": []
  },
  {
   "cell_type": "code",
   "execution_count": null,
   "metadata": {},
   "outputs": [],
   "source": []
  },
  {
   "cell_type": "code",
   "execution_count": null,
   "metadata": {},
   "outputs": [],
   "source": []
  }
 ],
 "metadata": {
  "kernelspec": {
   "display_name": "Python 3",
   "language": "python",
   "name": "python3"
  },
  "language_info": {
   "codemirror_mode": {
    "name": "ipython",
    "version": 3
   },
   "file_extension": ".py",
   "mimetype": "text/x-python",
   "name": "python",
   "nbconvert_exporter": "python",
   "pygments_lexer": "ipython3",
   "version": "3.6.9"
  }
 },
 "nbformat": 4,
 "nbformat_minor": 2
}
