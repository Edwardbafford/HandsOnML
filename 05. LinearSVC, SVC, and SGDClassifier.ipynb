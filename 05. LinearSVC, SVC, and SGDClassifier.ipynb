{
 "cells": [
  {
   "cell_type": "markdown",
   "metadata": {},
   "source": [
    "## LinearSVC, SVC, and SGDClassifier\n",
    "\n",
    "This exercise compares the output of the three algorithms on a linearly sperable dataset (iris)"
   ]
  },
  {
   "cell_type": "code",
   "execution_count": 7,
   "metadata": {},
   "outputs": [],
   "source": [
    "import numpy as np\n",
    "from sklearn import datasets\n",
    "\n",
    "#Get data from scikit-learn\n",
    "data = datasets.load_iris()\n",
    "X = data['data']\n",
    "y = data['target']"
   ]
  },
  {
   "cell_type": "code",
   "execution_count": 12,
   "metadata": {},
   "outputs": [],
   "source": [
    "#Filter by Seratosa or Versicolor classes and petal length/width features\n",
    "X = X[(y == 0) | (y == 1)][:,(2,3)]\n",
    "y = y[(y == 0) | (y == 1)]"
   ]
  },
  {
   "cell_type": "code",
   "execution_count": 23,
   "metadata": {},
   "outputs": [],
   "source": [
    "from sklearn.svm import SVC, LinearSVC\n",
    "from sklearn.linear_model import SGDClassifier\n",
    "from sklearn.preprocessing import StandardScaler\n",
    "\n",
    "#Hyperparameters\n",
    "C = 2.5\n",
    "alpha = .002\n",
    "\n",
    "#Scale features, important in SVMs!\n",
    "scaler = StandardScaler()\n",
    "X_scaled = scaler.fit_transform(X)\n",
    "\n",
    "#Fit models\n",
    "lin_clf = LinearSVC(loss='hinge', C=C).fit(X_scaled,y)\n",
    "svm_clf = SVC(kernel='linear', C=C).fit(X_scaled,y)\n",
    "sgd_clf = SGDClassifier(loss='hinge', alpha=alpha, max_iter=100000, tol=-np.Infinity).fit(X_scaled,y)"
   ]
  },
  {
   "cell_type": "code",
   "execution_count": 36,
   "metadata": {},
   "outputs": [
    {
     "data": {
      "image/png": "[encoded data removed]",
      "text/plain": [
       "<Figure size 792x288 with 1 Axes>"
      ]
     },
     "metadata": {},
     "output_type": "display_data"
    }
   ],
   "source": [
    "import matplotlib.pyplot as plt\n",
    "\n",
    "#Get the margin lines for each classifier\n",
    "#\n",
    "#domain over full range, calculate the range values at these points\n",
    "#\n",
    "lin_margin = scaler.inverse_transform([\n",
    "    [-2,((-1 * (lin_clf.coef_[0,0] * -2)) - lin_clf.intercept_[0]) / lin_clf.coef_[0,1]],\n",
    "    [2,((-1 * (lin_clf.coef_[0,0] * 2)) - lin_clf.intercept_[0]) / lin_clf.coef_[0,1]]\n",
    "])\n",
    "svm_margin = scaler.inverse_transform([\n",
    "    [-2,((-1 * (svm_clf.coef_[0,0] * -2)) - svm_clf.intercept_[0]) / svm_clf.coef_[0,1]],\n",
    "    [2,((-1 * (svm_clf.coef_[0,0] * 2)) - svm_clf.intercept_[0]) / svm_clf.coef_[0,1]]\n",
    "])\n",
    "sgd_margin = scaler.inverse_transform([\n",
    "    [-2,((-1 * (sgd_clf.coef_[0,0] * -2)) - sgd_clf.intercept_[0]) / sgd_clf.coef_[0,1]],\n",
    "    [2,((-1 * (sgd_clf.coef_[0,0] * 2)) - sgd_clf.intercept_[0]) / sgd_clf.coef_[0,1]]\n",
    "])\n",
    "\n",
    "\n",
    "plt.figure(figsize=(11,4))\n",
    "\n",
    "#Plot the margins\n",
    "plt.plot(lin_margin[:,0],lin_margin[:,1],'k:',label='LinearSVM')\n",
    "plt.plot(svm_margin[:,0],svm_margin[:,1],'b--',linewidth=3,label='Dual SVM')\n",
    "plt.plot(sgd_margin[:,0],sgd_margin[:,1],'r-',label='SGD SVM')\n",
    "\n",
    "#Plot data\n",
    "plt.plot(X[:,0][y==1], X[:,1][y==1], 'bs')\n",
    "plt.plot(X[:,0][y==0], X[:,1][y==0], 'yo')\n",
    "\n",
    "#Labels\n",
    "plt.xlabel('Petal Length')\n",
    "plt.ylabel('Petal Width')\n",
    "_ = plt.legend()"
   ]
  },
  {
   "cell_type": "markdown",
   "metadata": {},
   "source": [
    "As we can see all three models get very similar results, on simple data that's linearly seperable!!"
   ]
  },
  {
   "cell_type": "code",
   "execution_count": null,
   "metadata": {},
   "outputs": [],
   "source": []
  },
  {
   "cell_type": "code",
   "execution_count": null,
   "metadata": {},
   "outputs": [],
   "source": []
  },
  {
   "cell_type": "code",
   "execution_count": null,
   "metadata": {},
   "outputs": [],
   "source": []
  },
  {
   "cell_type": "code",
   "execution_count": null,
   "metadata": {},
   "outputs": [],
   "source": []
  },
  {
   "cell_type": "code",
   "execution_count": null,
   "metadata": {},
   "outputs": [],
   "source": []
  },
  {
   "cell_type": "code",
   "execution_count": null,
   "metadata": {},
   "outputs": [],
   "source": []
  },
  {
   "cell_type": "code",
   "execution_count": null,
   "metadata": {},
   "outputs": [],
   "source": []
  },
  {
   "cell_type": "code",
   "execution_count": null,
   "metadata": {},
   "outputs": [],
   "source": []
  },
  {
   "cell_type": "code",
   "execution_count": null,
   "metadata": {},
   "outputs": [],
   "source": []
  },
  {
   "cell_type": "code",
   "execution_count": null,
   "metadata": {},
   "outputs": [],
   "source": []
  },
  {
   "cell_type": "code",
   "execution_count": null,
   "metadata": {},
   "outputs": [],
   "source": []
  },
  {
   "cell_type": "code",
   "execution_count": null,
   "metadata": {},
   "outputs": [],
   "source": []
  },
  {
   "cell_type": "code",
   "execution_count": null,
   "metadata": {},
   "outputs": [],
   "source": []
  },
  {
   "cell_type": "code",
   "execution_count": null,
   "metadata": {},
   "outputs": [],
   "source": []
  },
  {
   "cell_type": "code",
   "execution_count": null,
   "metadata": {},
   "outputs": [],
   "source": []
  },
  {
   "cell_type": "code",
   "execution_count": null,
   "metadata": {},
   "outputs": [],
   "source": []
  }
 ],
 "metadata": {
  "kernelspec": {
   "display_name": "Python 3",
   "language": "python",
   "name": "python3"
  },
  "language_info": {
   "codemirror_mode": {
    "name": "ipython",
    "version": 3
   },
   "file_extension": ".py",
   "mimetype": "text/x-python",
   "name": "python",
   "nbconvert_exporter": "python",
   "pygments_lexer": "ipython3",
   "version": "3.6.4"
  }
 },
 "nbformat": 4,
 "nbformat_minor": 2
}
