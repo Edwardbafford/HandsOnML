{
 "cells": [
  {
   "cell_type": "markdown",
   "metadata": {
    "colab_type": "text",
    "id": "JR_9asjmQA2_"
   },
   "source": [
    "# MNIST Classifier\n",
    "Build a classifier to that achieves 97% accuracy on the MNIST dataset"
   ]
  },
  {
   "cell_type": "code",
   "execution_count": null,
   "metadata": {
    "colab": {
     "base_uri": "https://localhost:8080/",
     "height": 160
    },
    "colab_type": "code",
    "executionInfo": {
     "elapsed": 467,
     "status": "ok",
     "timestamp": 1550966858115,
     "user": {
      "displayName": "Louie Bafford",
      "photoUrl": "",
      "userId": "08555370311801076289"
     },
     "user_tz": 300
    },
    "id": "rG5T4pUxPeOC",
    "outputId": "b3755237-e477-4cc1-d716-929bc72338f2"
   },
   "outputs": [],
   "source": [
    "#Collect and display data\n",
    "\n",
    "import matplotlib.pyplot as plt\n",
    "from sklearn import datasets\n",
    "\n",
    "digits = datasets.load_digits()\n",
    "\n",
    "for index, (image, label) in enumerate(list(zip(digits.images, digits.target))[:4]):\n",
    "  plt.subplot(1,4, index+1)\n",
    "  plt.axis('off')\n",
    "  plt.imshow(image, cmap=plt.cm.gray_r, interpolation='nearest')\n",
    "  plt.title('Label -- {0}'.format(label))"
   ]
  },
  {
   "cell_type": "code",
   "execution_count": 0,
   "metadata": {
    "colab": {},
    "colab_type": "code",
    "collapsed": true,
    "id": "bXtSISJ0Px9N"
   },
   "outputs": [],
   "source": [
    "#Reshape the data for ML Algorithm\n",
    "data = digits.images.reshape((len(digits.images), -1))\n",
    "\n",
    "#Split the data\n",
    "X_train, X_test, y_train, y_test = data[:1300], data[1300:], digits.target[:1300], digits.target[1300:]"
   ]
  },
  {
   "cell_type": "code",
   "execution_count": 0,
   "metadata": {
    "colab": {},
    "colab_type": "code",
    "collapsed": true,
    "id": "AGtXd2prPx_4"
   },
   "outputs": [],
   "source": [
    "#Tune a model on KNN algorithm and inspect results\n",
    "\n",
    "from sklearn.neighbors import KNeighborsClassifier\n",
    "from sklearn.model_selection import GridSearchCV\n",
    "from sklearn.preprocessing import StandardScaler\n",
    "from sklearn.pipeline import Pipeline\n",
    "\n",
    "params = {\n",
    "    'n_neighbors':[1,2,3,4,5,6,7,8,9,10,11,12,13,14,15],\n",
    "    'p':[1,2,3]\n",
    "}\n",
    "\n",
    "clf = Pipeline([\n",
    "    ('scaler', StandardScaler()),\n",
    "    ('knn', GridSearchCV(KNeighborsClassifier(), params, cv=3, scoring='accuracy'))\n",
    "])\n"
   ]
  },
  {
   "cell_type": "code",
   "execution_count": 0,
   "metadata": {
    "colab": {
     "base_uri": "https://localhost:8080/",
     "height": 34
    },
    "colab_type": "code",
    "executionInfo": {
     "elapsed": 306,
     "status": "ok",
     "timestamp": 1550713470586,
     "user": {
      "displayName": "Louie Bafford",
      "photoUrl": "",
      "userId": "08555370311801076289"
     },
     "user_tz": 300
    },
    "id": "UK20KOVyPyHU",
    "outputId": "88d3a4a7-281e-42e6-b4c6-cfbca7c9ec6f"
   },
   "outputs": [
    {
     "data": {
      "text/plain": [
       "0.9207692307692308"
      ]
     },
     "execution_count": 26,
     "metadata": {
      "tags": []
     },
     "output_type": "execute_result"
    }
   ],
   "source": [
    "_ = clf.fit(X_train, y_train)\n",
    "clf.named_steps['knn'].best_score_"
   ]
  },
  {
   "cell_type": "code",
   "execution_count": 0,
   "metadata": {
    "colab": {
     "base_uri": "https://localhost:8080/",
     "height": 34
    },
    "colab_type": "code",
    "executionInfo": {
     "elapsed": 242,
     "status": "ok",
     "timestamp": 1550713480162,
     "user": {
      "displayName": "Louie Bafford",
      "photoUrl": "",
      "userId": "08555370311801076289"
     },
     "user_tz": 300
    },
    "id": "jB0VrMqbPyJy",
    "outputId": "cec0b289-6bb8-42ac-9355-258b73742df8"
   },
   "outputs": [
    {
     "data": {
      "text/plain": [
       "{'n_neighbors': 3, 'p': 1}"
      ]
     },
     "execution_count": 27,
     "metadata": {
      "tags": []
     },
     "output_type": "execute_result"
    }
   ],
   "source": [
    "clf.named_steps['knn'].best_params_"
   ]
  },
  {
   "cell_type": "code",
   "execution_count": 0,
   "metadata": {
    "colab": {
     "base_uri": "https://localhost:8080/",
     "height": 34
    },
    "colab_type": "code",
    "executionInfo": {
     "elapsed": 261,
     "status": "ok",
     "timestamp": 1550713605987,
     "user": {
      "displayName": "Louie Bafford",
      "photoUrl": "",
      "userId": "08555370311801076289"
     },
     "user_tz": 300
    },
    "id": "Zb6rr8XmkYC8",
    "outputId": "50ac9e7c-ae1b-47e6-ef9d-9b4625b388b8"
   },
   "outputs": [
    {
     "data": {
      "text/plain": [
       "array([0, 1, 2, 3, 4, 5, 6, 7, 8, 9])"
      ]
     },
     "execution_count": 29,
     "metadata": {
      "tags": []
     },
     "output_type": "execute_result"
    }
   ],
   "source": [
    "class_names = clf.named_steps['knn'].best_estimator_.classes_\n",
    "class_names"
   ]
  },
  {
   "cell_type": "code",
   "execution_count": 0,
   "metadata": {
    "colab": {
     "base_uri": "https://localhost:8080/",
     "height": 347
    },
    "colab_type": "code",
    "executionInfo": {
     "elapsed": 1000,
     "status": "ok",
     "timestamp": 1550713681750,
     "user": {
      "displayName": "Louie Bafford",
      "photoUrl": "",
      "userId": "08555370311801076289"
     },
     "user_tz": 300
    },
    "id": "z8vv9qaDPyMY",
    "outputId": "470dcbfb-6254-4d96-bdf1-d02015fe1ddc"
   },
   "outputs": [
    {
     "data": {
      "image/png": "[encoded data removed]",
      "text/plain": [
       "<Figure size 576x396 with 2 Axes>"
      ]
     },
     "metadata": {
      "tags": []
     },
     "output_type": "display_data"
    }
   ],
   "source": [
    "#Performance Analysis using a Confusion Matrix\n",
    "\n",
    "from sklearn.metrics import confusion_matrix\n",
    "import numpy as np\n",
    "import seaborn as sns\n",
    "\n",
    "conf_mx = confusion_matrix(clf.predict(X_test), y_test)\n",
    "norm_conf_mx = conf_mx / conf_mx.sum(axis=1, keepdims=True)\n",
    "np.fill_diagonal(norm_conf_mx, 0)\n",
    "\n",
    "ax = sns.heatmap(norm_conf_mx, cmap=plt.cm.Blues, annot=True, cbar=True, xticklabels=class_names, yticklabels=class_names)"
   ]
  },
  {
   "cell_type": "code",
   "execution_count": 0,
   "metadata": {
    "colab": {
     "base_uri": "https://localhost:8080/",
     "height": 34
    },
    "colab_type": "code",
    "executionInfo": {
     "elapsed": 359,
     "status": "ok",
     "timestamp": 1550713778678,
     "user": {
      "displayName": "Louie Bafford",
      "photoUrl": "",
      "userId": "08555370311801076289"
     },
     "user_tz": 300
    },
    "id": "sCK6NP96PyOs",
    "outputId": "3bd01068-03b1-47d5-e965-76b354c3e805"
   },
   "outputs": [
    {
     "data": {
      "text/plain": [
       "0.9416498993963782"
      ]
     },
     "execution_count": 34,
     "metadata": {
      "tags": []
     },
     "output_type": "execute_result"
    }
   ],
   "source": [
    "#Test data accuracy\n",
    "\n",
    "from sklearn.metrics import accuracy_score\n",
    "accuracy_score(clf.predict(X_test), y_test)"
   ]
  },
  {
   "cell_type": "markdown",
   "metadata": {
    "colab_type": "text",
    "id": "0O26WePXw1zh"
   },
   "source": [
    "# Evaluation\n",
    "\n",
    "Our test performance is quite high at over 94%! We can see what numbers are confusioned with others and what numbers are often missed by using the confusion matrix. With this as our guide we could include feature engineering aspects to our pipeline to focus on the weaknesses."
   ]
  },
  {
   "cell_type": "markdown",
   "metadata": {
    "colab_type": "text",
    "id": "HsR_4ep0izKS"
   },
   "source": [
    "# Data Augmentation\n",
    "Create extra synthetic samples by shifting each image in different directions. Retrain and test the model to look for improvements"
   ]
  },
  {
   "cell_type": "code",
   "execution_count": 0,
   "metadata": {
    "colab": {
     "base_uri": "https://localhost:8080/",
     "height": 323
    },
    "colab_type": "code",
    "executionInfo": {
     "elapsed": 800,
     "status": "ok",
     "timestamp": 1550962471905,
     "user": {
      "displayName": "Louie Bafford",
      "photoUrl": "",
      "userId": "08555370311801076289"
     },
     "user_tz": 300
    },
    "id": "fNmGV-a4PyRS",
    "outputId": "8ffd5403-b580-489a-ddb4-467206d7266f"
   },
   "outputs": [
    {
     "data": {
      "image/png": "[encoded data removed]",
      "text/plain": [
       "<Figure size 576x396 with 8 Axes>"
      ]
     },
     "metadata": {
      "tags": []
     },
     "output_type": "display_data"
    }
   ],
   "source": [
    "#Add data for training by shifting current data and using as new samples\n",
    "\n",
    "from scipy.ndimage.interpolation import shift\n",
    "\n",
    "for index, (image, label) in enumerate(list(zip(digits.images, digits.target))[:4]):\n",
    "  plt.subplot(2,4, index+1)\n",
    "  plt.imshow(image, cmap=plt.cm.gray_r, interpolation='nearest')\n",
    "  plt.axis('off')\n",
    "  plt.title('Original -- {0}'.format(label))\n",
    "  \n",
    "  plt.subplot(2,4, index+5)\n",
    "  plt.imshow(shift(image, shift=[1,1], cval=0))\n",
    "  plt.axis('off')\n",
    "  plt.title('Shifted -- {0}'.format(label))"
   ]
  },
  {
   "cell_type": "code",
   "execution_count": 0,
   "metadata": {
    "colab": {},
    "colab_type": "code",
    "collapsed": true,
    "id": "-Pe20-iFPyTx"
   },
   "outputs": [],
   "source": [
    "#Collect augmented data\n",
    "\n",
    "from sklearn.model_selection import train_test_split\n",
    "\n",
    "x_augmented = [image.reshape(-1) for image in digits.images]\n",
    "y_augmented = [image for image in digits.target]\n",
    "\n",
    "for dx, dy in ((1,0), (-1,0), (0,1), (0,-1)):\n",
    "  for image, label in zip(digits.images, digits.target):\n",
    "    shifted = shift(image, shift=[dy,dx], cval=0)\n",
    "    x_augmented.append(shifted.reshape(-1))\n",
    "    y_augmented.append(label)\n",
    "\n",
    "X_train, X_test, y_train, y_test = train_test_split(x_augmented, y_augmented, test_size=.33)"
   ]
  },
  {
   "cell_type": "code",
   "execution_count": 0,
   "metadata": {
    "colab": {
     "base_uri": "https://localhost:8080/",
     "height": 362
    },
    "colab_type": "code",
    "executionInfo": {
     "elapsed": 403,
     "status": "ok",
     "timestamp": 1550967089305,
     "user": {
      "displayName": "Louie Bafford",
      "photoUrl": "",
      "userId": "08555370311801076289"
     },
     "user_tz": 300
    },
    "id": "YHk045LmPyWL",
    "outputId": "55f2abfa-502f-4ed8-d9a7-1280fa349ec5"
   },
   "outputs": [
    {
     "data": {
      "image/png": "[encoded data removed]",
      "text/plain": [
       "<Figure size 576x396 with 1 Axes>"
      ]
     },
     "metadata": {
      "tags": []
     },
     "output_type": "display_data"
    }
   ],
   "source": [
    "#Spot check for correctness\n",
    "\n",
    "plt.imshow(X_train[132].reshape(8,8))\n",
    "plt.axis('off')\n",
    "ax = plt.title('Shifted -- {0}'.format(y_train[132]))"
   ]
  },
  {
   "cell_type": "code",
   "execution_count": 0,
   "metadata": {
    "colab": {
     "base_uri": "https://localhost:8080/",
     "height": 34
    },
    "colab_type": "code",
    "executionInfo": {
     "elapsed": 3534678,
     "status": "ok",
     "timestamp": 1550973116586,
     "user": {
      "displayName": "Louie Bafford",
      "photoUrl": "",
      "userId": "08555370311801076289"
     },
     "user_tz": 300
    },
    "id": "tak3hH8APyYi",
    "outputId": "6dd7fff6-bab8-40ba-ad90-76dd79d6d9ac"
   },
   "outputs": [
    {
     "data": {
      "text/plain": [
       "0.9752450573184914"
      ]
     },
     "execution_count": 23,
     "metadata": {
      "tags": []
     },
     "output_type": "execute_result"
    }
   ],
   "source": [
    "#Fit and evaluate the model\n",
    "_ = clf.fit(X_train, y_train)\n",
    "clf.named_steps['knn'].best_score_"
   ]
  },
  {
   "cell_type": "markdown",
   "metadata": {
    "colab_type": "text",
    "id": "WeaZOWWBCaPC"
   },
   "source": [
    "# Evaluation\n",
    "After augmenting the data to increase the amount of samples our new model has an increased accuracy!"
   ]
  }
 ],
 "metadata": {
  "colab": {
   "collapsed_sections": [],
   "name": "3. MNIST Classifier.ipynb",
   "provenance": [],
   "version": "0.3.2"
  },
  "kernelspec": {
   "display_name": "Python 3",
   "language": "python",
   "name": "python3"
  }
 },
 "nbformat": 4,
 "nbformat_minor": 1
}
